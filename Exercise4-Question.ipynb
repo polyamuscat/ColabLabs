{
  "nbformat": 4,
  "nbformat_minor": 0,
  "metadata": {
    "coursera": {
      "course_slug": "introduction-tensorflow",
      "graded_item_id": "1kAlw",
      "launcher_item_id": "PNLYD"
    },
    "kernelspec": {
      "display_name": "Python 3",
      "language": "python",
      "name": "python3"
    },
    "language_info": {
      "codemirror_mode": {
        "name": "ipython",
        "version": 3
      },
      "file_extension": ".py",
      "mimetype": "text/x-python",
      "name": "python",
      "nbconvert_exporter": "python",
      "pygments_lexer": "ipython3",
      "version": "3.6.8"
    },
    "colab": {
      "name": "Exercise4-Question.ipynb",
      "provenance": [],
      "include_colab_link": true
    }
  },
  "cells": [
    {
      "cell_type": "markdown",
      "metadata": {
        "id": "view-in-github",
        "colab_type": "text"
      },
      "source": [
        "<a href=\"https://colab.research.google.com/github/polyamuscat/ColabLabs/blob/main/Exercise4-Question.ipynb\" target=\"_parent\"><img src=\"https://colab.research.google.com/assets/colab-badge.svg\" alt=\"Open In Colab\"/></a>"
      ]
    },
    {
      "cell_type": "markdown",
      "metadata": {
        "id": "UncprnB0ymAE"
      },
      "source": [
        "Ниже приведен код со ссылкой на набор данных «happy» или «sad», содержащий 80 изображений, 40 счастливых и 40 грустных.\n",
        "Создайте сверточную нейронную сеть, которая обучается со 100% точностью на этих изображениях, с отменой обучения при достижении точности обучения .999"
      ]
    },
    {
      "cell_type": "code",
      "metadata": {
        "id": "-ALIEF4A2tTr",
        "colab": {
          "base_uri": "https://localhost:8080/"
        },
        "outputId": "bd17d79b-8171-41c6-9208-d2b7137a3664"
      },
      "source": [
        "import tensorflow as tf\n",
        "import os\n",
        "import zipfile\n",
        "#\n",
        "!wget --no-check-certificate \"https://storage.googleapis.com/laurencemoroney-blog.appspot.com/happy-or-sad.zip\" \\\n",
        "   -O \"/tmp/happy-or-sad.zip\"\n",
        "\n",
        "zip_ref = zipfile.ZipFile(\"/tmp/happy-or-sad.zip\", 'r')\n",
        "zip_ref.extractall(\"/tmp/h-or-s\")\n",
        "zip_ref.close()\n"
      ],
      "execution_count": 1,
      "outputs": [
        {
          "output_type": "stream",
          "text": [
            "--2021-05-28 05:51:09--  https://storage.googleapis.com/laurencemoroney-blog.appspot.com/happy-or-sad.zip\n",
            "Resolving storage.googleapis.com (storage.googleapis.com)... 172.217.193.128, 172.217.204.128, 172.217.203.128, ...\n",
            "Connecting to storage.googleapis.com (storage.googleapis.com)|172.217.193.128|:443... connected.\n",
            "HTTP request sent, awaiting response... 200 OK\n",
            "Length: 2670333 (2.5M) [application/zip]\n",
            "Saving to: ‘/tmp/happy-or-sad.zip’\n",
            "\n",
            "\r/tmp/happy-or-sad.z   0%[                    ]       0  --.-KB/s               \r/tmp/happy-or-sad.z 100%[===================>]   2.55M  --.-KB/s    in 0.03s   \n",
            "\n",
            "2021-05-28 05:51:10 (95.3 MB/s) - ‘/tmp/happy-or-sad.zip’ saved [2670333/2670333]\n",
            "\n"
          ],
          "name": "stdout"
        }
      ]
    },
    {
      "cell_type": "code",
      "metadata": {
        "id": "11_S4Hd66Lqd",
        "colab": {
          "base_uri": "https://localhost:8080/"
        },
        "outputId": "5495b207-68cc-4159-9641-6f79336b8176"
      },
      "source": [
        "import os\n",
        "\n",
        "train_happy_dir = os.path.join('/tmp/h-or-s/happy')\n",
        "\n",
        "train_sad_dir = os.path.join('/tmp/h-or-s/sad')\n",
        "\n",
        "train_happy_names = os.listdir(train_happy_dir)\n",
        "print(train_happy_names[:10])\n",
        "\n",
        "train_sad_names = os.listdir(train_sad_dir)\n",
        "print(train_sad_names[:10])"
      ],
      "execution_count": 2,
      "outputs": [
        {
          "output_type": "stream",
          "text": [
            "['happy2-00.png', 'happy2-08.png', 'happy2-18.png', 'happy2-01.png', 'happy1-05.png', 'happy2-02.png', 'happy1-00.png', 'happy1-08.png', 'happy2-15.png', 'happy1-07.png']\n",
            "['sad1-18.png', 'sad2-10.png', 'sad2-01.png', 'sad2-05.png', 'sad1-00.png', 'sad2-06.png', 'sad1-12.png', 'sad1-04.png', 'sad1-19.png', 'sad1-15.png']\n"
          ],
          "name": "stdout"
        }
      ]
    },
    {
      "cell_type": "code",
      "metadata": {
        "id": "5gZoRjft2tTw"
      },
      "source": [
        "def train_happy_sad_model():\n",
        "\n",
        "    DESIRED_ACCURACY = 0.999\n",
        "\n",
        "    class myCallback(tf.keras.callbacks.Callback):\n",
        "      def on_epoch_end(self, epoch, logs={}):\n",
        "        if(logs.get('accuracy') > DESIRED_ACCURACY):\n",
        "          print(\"\\nДостигнута точность 99.9%, обучение прерывается!\")\n",
        "          self.model.stop_training = True\n",
        "\n",
        "    callbacks = myCallback()\n",
        "    \n",
        "    # Этот блок кода должен задать и скомпилировать модель. Пожалуйста, имейте в виду, что размер изображений 150 X 150\n",
        "    model = tf.keras.models.Sequential([\n",
        "      # This is the first convolution\n",
        "      tf.keras.layers.Conv2D(16, (3,3), activation='relu', input_shape=(150, 150, 3)),\n",
        "      tf.keras.layers.MaxPooling2D(2, 2),\n",
        "      # The second convolution\n",
        "      tf.keras.layers.Conv2D(32, (3,3), activation='relu'),\n",
        "      tf.keras.layers.MaxPooling2D(2,2),\n",
        "      # The third convolution\n",
        "      tf.keras.layers.Conv2D(64, (3,3), activation='relu'),\n",
        "      tf.keras.layers.MaxPooling2D(2,2),\n",
        "      # Flatten the results to feed into a DNN\n",
        "      tf.keras.layers.Flatten(),\n",
        "      # 512 neuron hidden layer\n",
        "      tf.keras.layers.Dense(512, activation='relu'),\n",
        "      # Только 1 выходной нейрон. Он будет содержать значение от 0 до 1, где 0 для 1 класса («happy») и 1 для другого («sad»)\n",
        "      tf.keras.layers.Dense(1, activation='sigmoid')\n",
        "    ])\n",
        "\n",
        "    from tensorflow.keras.optimizers import RMSprop\n",
        "\n",
        "    model.compile(loss='binary_crossentropy',\n",
        "              optimizer=RMSprop(learning_rate=0.001),\n",
        "              metrics=['accuracy'])\n",
        "        \n",
        "\n",
        "     # Этот блок кода должен создать экземпляр ImageDataGenerator с именем train_datagen\n",
        "      # и train_generator, вызовом train_datagen.flow_from_directory\n",
        "\n",
        "    from tensorflow.keras.preprocessing.image import ImageDataGenerator\n",
        "\n",
        "    train_datagen = ImageDataGenerator(rescale=1/255)\n",
        "\n",
        "    # Используйте target_size  150 X 150.\n",
        "    train_generator = train_datagen.flow_from_directory(\n",
        "            '/tmp/h-or-s',\n",
        "            target_size=(150, 150),\n",
        "            batch_size=32,\n",
        "            class_mode='binary')\n",
        "    # ожидаемая строка вывода: 'Found 80 images belonging to 2 classes'\n",
        "\n",
        "    STEP_SIZE_TRAIN=train_generator.n//train_generator.batch_size\n",
        "\n",
        "    history = model.fit_generator(\n",
        "      train_generator, \n",
        "      steps_per_epoch=STEP_SIZE_TRAIN,\n",
        "      epochs=20,\n",
        "      verbose=1,\n",
        "      callbacks=[callbacks])\n",
        " \n",
        "    # model fitting\n",
        "    return history.history['accuracy'][-1]"
      ],
      "execution_count": 45,
      "outputs": []
    },
    {
      "cell_type": "code",
      "metadata": {
        "id": "XtZC9HlK2tTz",
        "colab": {
          "base_uri": "https://localhost:8080/"
        },
        "outputId": "1c61c659-4d48-4ab2-ba9b-058344318094"
      },
      "source": [
        "# ожидаемая строка вывода: \"Достигнута точность 99.9%, обучение прерывается!\"\n",
        "train_happy_sad_model()"
      ],
      "execution_count": 46,
      "outputs": [
        {
          "output_type": "stream",
          "text": [
            "Found 80 images belonging to 2 classes.\n",
            "Epoch 1/20\n"
          ],
          "name": "stdout"
        },
        {
          "output_type": "stream",
          "text": [
            "/usr/local/lib/python3.7/dist-packages/tensorflow/python/keras/engine/training.py:1940: UserWarning: `Model.fit_generator` is deprecated and will be removed in a future version. Please use `Model.fit`, which supports generators.\n",
            "  warnings.warn('`Model.fit_generator` is deprecated and '\n"
          ],
          "name": "stderr"
        },
        {
          "output_type": "stream",
          "text": [
            "2/2 [==============================] - 2s 428ms/step - loss: 2.0139 - accuracy: 0.5833\n",
            "Epoch 2/20\n",
            "2/2 [==============================] - 1s 714ms/step - loss: 0.8600 - accuracy: 0.4167\n",
            "Epoch 3/20\n",
            "2/2 [==============================] - 1s 435ms/step - loss: 0.5128 - accuracy: 0.8125\n",
            "Epoch 4/20\n",
            "2/2 [==============================] - 1s 715ms/step - loss: 0.3279 - accuracy: 0.8958\n",
            "Epoch 5/20\n",
            "2/2 [==============================] - 1s 438ms/step - loss: 0.4338 - accuracy: 0.7917\n",
            "Epoch 6/20\n",
            "2/2 [==============================] - 1s 411ms/step - loss: 0.3675 - accuracy: 0.8750\n",
            "Epoch 7/20\n",
            "2/2 [==============================] - 1s 709ms/step - loss: 0.1234 - accuracy: 0.9583\n",
            "Epoch 8/20\n",
            "2/2 [==============================] - 1s 430ms/step - loss: 0.1233 - accuracy: 0.9583\n",
            "Epoch 9/20\n",
            "2/2 [==============================] - 1s 685ms/step - loss: 0.1203 - accuracy: 0.9688\n",
            "Epoch 10/20\n",
            "2/2 [==============================] - 1s 433ms/step - loss: 0.0919 - accuracy: 1.0000\n",
            "\n",
            "Достигнута точность 99.9%, обучение прерывается!\n"
          ],
          "name": "stdout"
        },
        {
          "output_type": "execute_result",
          "data": {
            "text/plain": [
              "1.0"
            ]
          },
          "metadata": {
            "tags": []
          },
          "execution_count": 46
        }
      ]
    }
  ]
}