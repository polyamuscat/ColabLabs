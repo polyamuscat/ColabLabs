{
  "nbformat": 4,
  "nbformat_minor": 0,
  "metadata": {
    "coursera": {
      "course_slug": "introduction-tensorflow",
      "graded_item_id": "ml06H",
      "launcher_item_id": "hQF8A"
    },
    "kernelspec": {
      "display_name": "Python 3",
      "language": "python",
      "name": "python3"
    },
    "language_info": {
      "codemirror_mode": {
        "name": "ipython",
        "version": 3
      },
      "file_extension": ".py",
      "mimetype": "text/x-python",
      "name": "python",
      "nbconvert_exporter": "python",
      "pygments_lexer": "ipython3",
      "version": "3.6.8"
    },
    "colab": {
      "name": "Excercise-3-Question.ipynb",
      "provenance": [],
      "include_colab_link": true
    }
  },
  "cells": [
    {
      "cell_type": "markdown",
      "metadata": {
        "id": "view-in-github",
        "colab_type": "text"
      },
      "source": [
        "<a href=\"https://colab.research.google.com/github/polyamuscat/ColabLabs/blob/main/Excercise-3-Question.ipynb\" target=\"_parent\"><img src=\"https://colab.research.google.com/assets/colab-badge.svg\" alt=\"Open In Colab\"/></a>"
      ]
    },
    {
      "cell_type": "markdown",
      "metadata": {
        "id": "iQjHqsmTAVLU"
      },
      "source": [
        "## Упражнение 3\n",
        "вы уже знаете, как улучшить Fashion MNIST, используя Convolutions. Теперь посмотрите, можете ли вы улучшить MNIST с точностью до 99,8% или более, используя только один сверточный слой и один MaxPooling 2D. Вам надо будет остановить процесс обучения, как только точность превысит это значение. Это должно произойти менее чем за 20 эпох, поэтому можно точно указать количество эпох для обучения, но ваше обучение должно закончиться, как только accuracy достигнет 99,8%. Если это не произойдет, то вам нужно будет изменить дизайн ваших слоев.\n",
        "\n",
        "Начало кода уже написано - вы должны закончить код\n",
        "\n",
        "Когда достигнута точность 99,8%, надо распечатать строку «достигнута точность 99,8%, поэтому обучение прервано!»"
      ]
    },
    {
      "cell_type": "code",
      "metadata": {
        "id": "NHKVudseU5Vk"
      },
      "source": [
        "import tensorflow as tf\n",
        "from os import path, getcwd, chdir"
      ],
      "execution_count": 1,
      "outputs": []
    },
    {
      "cell_type": "code",
      "metadata": {
        "id": "tCtEvQtcU5Vr"
      },
      "source": [
        "\n",
        "def train_mnist_conv():\n",
        "    \n",
        "    # Ваш код будет здесь\n",
        "    class myCallback(tf.keras.callbacks.Callback):\n",
        "      def on_epoch_end(self, epoch, logs={}):\n",
        "        if(logs.get('accuracy') > 0.998):\n",
        "          print(\"\\nДостигнута точность 99.8%, поэтому обучение прервано!\")\n",
        "          self.model.stop_training = True\n",
        "    \n",
        "    callbacks = myCallback() \n",
        "    # Ваш код закончится здесь\n",
        "\n",
        "    mnist = tf.keras.datasets.mnist\n",
        "    (training_images, training_labels), (test_images, test_labels) = mnist.load_data()\n",
        "    # Ваш код будет здесь\n",
        "    training_images=training_images.reshape(60000, 28, 28, 1)\n",
        "    training_images=training_images / 255.0\n",
        "    test_images = test_images.reshape(10000, 28, 28, 1)\n",
        "    test_images=test_images/255.0    \n",
        "    # Ваш код закончится здесь\n",
        "\n",
        "    model = tf.keras.models.Sequential([\n",
        "            # Ваш код будет здесь\n",
        "            tf.keras.layers.Conv2D(32, (3,3), activation='relu', input_shape=(28, 28, 1)),\n",
        "            tf.keras.layers.MaxPooling2D(2, 2),\n",
        "            tf.keras.layers.Flatten(),\n",
        "            tf.keras.layers.Dense(128, activation='relu'),\n",
        "            tf.keras.layers.Dense(10, activation='softmax')\n",
        "            # Ваш код закончится здесь\n",
        "    ])\n",
        "\n",
        "    model.compile(optimizer='adam', loss='sparse_categorical_crossentropy', metrics=['accuracy'])\n",
        "    # model fitting\n",
        "    history = model.fit(\n",
        "        # Ваш код будет здесь\n",
        "        training_images, \n",
        "        training_labels, \n",
        "        epochs=20,\n",
        "        callbacks=[callbacks]\n",
        "        # Ваш код закончится здесь\n",
        "    )\n",
        "    # model fitting\n",
        "    return history.epoch, history.history['accuracy'][-1]\n"
      ],
      "execution_count": 2,
      "outputs": []
    },
    {
      "cell_type": "code",
      "metadata": {
        "id": "ZF0cVMAgU5Vt",
        "outputId": "94426e00-1eb6-4f5e-8128-6ff433607377",
        "colab": {
          "base_uri": "https://localhost:8080/"
        }
      },
      "source": [
        "_, _ = train_mnist_conv()"
      ],
      "execution_count": 3,
      "outputs": [
        {
          "output_type": "stream",
          "text": [
            "Downloading data from https://storage.googleapis.com/tensorflow/tf-keras-datasets/mnist.npz\n",
            "11493376/11490434 [==============================] - 0s 0us/step\n",
            "Epoch 1/20\n",
            "1875/1875 [==============================] - 35s 19ms/step - loss: 0.1484 - accuracy: 0.9563\n",
            "Epoch 2/20\n",
            "1875/1875 [==============================] - 34s 18ms/step - loss: 0.0502 - accuracy: 0.9845\n",
            "Epoch 3/20\n",
            "1875/1875 [==============================] - 34s 18ms/step - loss: 0.0317 - accuracy: 0.9902\n",
            "Epoch 4/20\n",
            "1875/1875 [==============================] - 34s 18ms/step - loss: 0.0204 - accuracy: 0.9933\n",
            "Epoch 5/20\n",
            "1875/1875 [==============================] - 34s 18ms/step - loss: 0.0146 - accuracy: 0.9954\n",
            "Epoch 6/20\n",
            "1875/1875 [==============================] - 34s 18ms/step - loss: 0.0101 - accuracy: 0.9965\n",
            "Epoch 7/20\n",
            "1875/1875 [==============================] - 34s 18ms/step - loss: 0.0082 - accuracy: 0.9972\n",
            "Epoch 8/20\n",
            "1875/1875 [==============================] - 34s 18ms/step - loss: 0.0054 - accuracy: 0.9983\n",
            "\n",
            "Достигнута точность 99.8%, поэтому обучение прервано!\n"
          ],
          "name": "stdout"
        }
      ]
    }
  ]
}